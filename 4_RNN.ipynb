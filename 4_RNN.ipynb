{
  "nbformat": 4,
  "nbformat_minor": 0,
  "metadata": {
    "kernelspec": {
      "display_name": "Python 3",
      "language": "python",
      "name": "python3"
    },
    "language_info": {
      "codemirror_mode": {
        "name": "ipython",
        "version": 3
      },
      "file_extension": ".py",
      "mimetype": "text/x-python",
      "name": "python",
      "nbconvert_exporter": "python",
      "pygments_lexer": "ipython3",
      "version": "3.7.3"
    },
    "colab": {
      "name": "4.RNN.ipynb",
      "provenance": [],
      "include_colab_link": true
    }
  },
  "cells": [
    {
      "cell_type": "markdown",
      "metadata": {
        "id": "view-in-github",
        "colab_type": "text"
      },
      "source": [
        "<a href=\"https://colab.research.google.com/github/ivoryRabbit/NIMS_PLIM/blob/gh-pages/4_RNN.ipynb\" target=\"_parent\"><img src=\"https://colab.research.google.com/assets/colab-badge.svg\" alt=\"Open In Colab\"/></a>"
      ]
    },
    {
      "cell_type": "markdown",
      "metadata": {
        "id": "1yVy8Pa63Zo1"
      },
      "source": [
        "# RNN based models\n",
        "\n",
        "- LSTM과 GRU를 이용해 모델을 학습시켰습니다.\n",
        "- 2011년도 데이터부터 사용하였습니다."
      ]
    },
    {
      "cell_type": "markdown",
      "metadata": {
        "id": "EUL01QtJ3Zo6"
      },
      "source": [
        "1. Stacked LSTM\n",
        "    - 결과: 21.05451\n",
        "2. Stacked GRU\n",
        "    - 결과: 20.19185"
      ]
    },
    {
      "cell_type": "code",
      "metadata": {
        "id": "byJibAeO3Zo7"
      },
      "source": [
        "import pandas as pd\n",
        "import numpy as np\n",
        "import glob, re, gc, os\n",
        "np.random.seed(777)\n",
        "\n",
        "import seaborn as sns\n",
        "import matplotlib.pyplot as plt\n",
        "%matplotlib inline\n",
        "plt.style.use('bmh')\n",
        "\n",
        "from sklearn.model_selection import train_test_split\n",
        "\n",
        "import tensorflow as tf\n",
        "from tensorflow.keras.models import Sequential, load_model\n",
        "from tensorflow.keras.layers import Dense, LSTM, GRU, Flatten, Dropout, Reshape, SpatialDropout1D, TimeDistributed\n",
        "from tensorflow.keras.optimizers import Adam, RMSprop\n",
        "from tensorflow.keras.callbacks import EarlyStopping, ModelCheckpoint\n",
        "\n",
        "import warnings\n",
        "warnings.filterwarnings('ignore')"
      ],
      "execution_count": null,
      "outputs": []
    },
    {
      "cell_type": "code",
      "metadata": {
        "id": "RgTrawWd3Zo8",
        "outputId": "4ac3a096-62af-433d-ba31-9608beb53077"
      },
      "source": [
        "train = pd.read_csv('data/train_clean.csv', index_col = 'id')\n",
        "test = pd.read_csv('data/test.csv', index_col = 'id')\n",
        "sample_submission = pd.read_csv('data/sample_submission.csv', index_col = 'id')\n",
        "print(train.shape, test.shape, sample_submission.shape)"
      ],
      "execution_count": null,
      "outputs": [
        {
          "output_type": "stream",
          "text": [
            "(66170, 125) (10000, 113) (10000, 12)\n"
          ],
          "name": "stdout"
        }
      ]
    },
    {
      "cell_type": "code",
      "metadata": {
        "id": "ppYXwDWE3Zo8"
      },
      "source": [
        "X = train.loc[:, '2011-06': '2018-05']\n",
        "y = train.loc[:, '2018-06':]\n",
        "X_test = test.loc[:, '2011-06':]"
      ],
      "execution_count": null,
      "outputs": []
    },
    {
      "cell_type": "code",
      "metadata": {
        "id": "QbNE1QbQ3Zo9"
      },
      "source": [
        "X_train, X_valid, y_train, y_valid = train_test_split(X, y, test_size = 0.2, random_state = 777)"
      ],
      "execution_count": null,
      "outputs": []
    },
    {
      "cell_type": "markdown",
      "metadata": {
        "id": "qGGOFP7r3Zo9"
      },
      "source": [
        "### 1. Stacked LSTM"
      ]
    },
    {
      "cell_type": "code",
      "metadata": {
        "id": "IGI3K69W3Zo-"
      },
      "source": [
        "def build_model(input_shape):\n",
        "    model = Sequential()\n",
        "    model.add(Reshape((1, input_shape), input_shape = (input_shape, )))\n",
        "    model.add(LSTM(128, return_sequences = True))\n",
        "    model.add(LSTM(128, return_sequences = False))\n",
        "\n",
        "    model.add(Dense(128, activation = 'relu'))\n",
        "    model.add(Dropout(.5))\n",
        "    model.add(Dense(64, activation = 'relu'))\n",
        "    model.add(Dropout(.5))\n",
        "    model.add(Dense(12, activation = 'linear'))\n",
        "\n",
        "    adam = Adam(lr=0.0005)\n",
        "    model.compile(loss = 'mse', optimizer = adam)\n",
        "    return model"
      ],
      "execution_count": null,
      "outputs": []
    },
    {
      "cell_type": "code",
      "metadata": {
        "scrolled": false,
        "id": "GhiuVtvR3Zo-",
        "outputId": "fed4d49f-56e7-4505-d38c-0ba62070a427"
      },
      "source": [
        "model = build_model(X_train.shape[1])\n",
        "model.summary()"
      ],
      "execution_count": null,
      "outputs": [
        {
          "output_type": "stream",
          "text": [
            "WARNING:tensorflow:From /opt/conda/lib/python3.7/site-packages/tensorflow/python/ops/resource_variable_ops.py:435: colocate_with (from tensorflow.python.framework.ops) is deprecated and will be removed in a future version.\n",
            "Instructions for updating:\n",
            "Colocations handled automatically by placer.\n",
            "WARNING:tensorflow:From /opt/conda/lib/python3.7/site-packages/tensorflow/python/keras/layers/core.py:143: calling dropout (from tensorflow.python.ops.nn_ops) with keep_prob is deprecated and will be removed in a future version.\n",
            "Instructions for updating:\n",
            "Please use `rate` instead of `keep_prob`. Rate should be set to `rate = 1 - keep_prob`.\n",
            "WARNING:tensorflow:From /opt/conda/lib/python3.7/site-packages/tensorflow/python/keras/utils/losses_utils.py:170: to_float (from tensorflow.python.ops.math_ops) is deprecated and will be removed in a future version.\n",
            "Instructions for updating:\n",
            "Use tf.cast instead.\n",
            "_________________________________________________________________\n",
            "Layer (type)                 Output Shape              Param #   \n",
            "=================================================================\n",
            "reshape (Reshape)            (None, 1, 84)             0         \n",
            "_________________________________________________________________\n",
            "lstm (LSTM)                  (None, 1, 128)            109056    \n",
            "_________________________________________________________________\n",
            "lstm_1 (LSTM)                (None, 128)               131584    \n",
            "_________________________________________________________________\n",
            "dense (Dense)                (None, 128)               16512     \n",
            "_________________________________________________________________\n",
            "dropout (Dropout)            (None, 128)               0         \n",
            "_________________________________________________________________\n",
            "dense_1 (Dense)              (None, 64)                8256      \n",
            "_________________________________________________________________\n",
            "dropout_1 (Dropout)          (None, 64)                0         \n",
            "_________________________________________________________________\n",
            "dense_2 (Dense)              (None, 12)                780       \n",
            "=================================================================\n",
            "Total params: 266,188\n",
            "Trainable params: 266,188\n",
            "Non-trainable params: 0\n",
            "_________________________________________________________________\n"
          ],
          "name": "stdout"
        }
      ]
    },
    {
      "cell_type": "code",
      "metadata": {
        "scrolled": false,
        "id": "LFU6TTlb3Zo_",
        "outputId": "99b8bf11-787f-40bc-b61a-f3af50f0f151"
      },
      "source": [
        "early_stopping = EarlyStopping(monitor = 'val_loss', mode = 'min', patience = 20)\n",
        "model_checkpoint = ModelCheckpoint('models/LSTM_model.h5', monitor = 'val_loss', mode = 'min', save_best_only = True)\n",
        "\n",
        "hist_model = model.fit(\n",
        "    X_train, y_train,\n",
        "    epochs = 100,\n",
        "    batch_size = 256,\n",
        "    verbose = 2, \n",
        "    validation_data = (X_valid, y_valid),\n",
        "    callbacks = [early_stopping, model_checkpoint]\n",
        ")\n",
        "\n",
        "plt.plot(hist_model.history['loss'], label = 'loss')\n",
        "plt.plot(hist_model.history['val_loss'], label = 'val_loss')\n",
        "plt.xlabel('epoch')\n",
        "plt.ylabel('loss')\n",
        "plt.legend()\n",
        "plt.show()"
      ],
      "execution_count": null,
      "outputs": [
        {
          "output_type": "stream",
          "text": [
            "Train on 52936 samples, validate on 13234 samples\n",
            "WARNING:tensorflow:From /opt/conda/lib/python3.7/site-packages/tensorflow/python/ops/math_ops.py:3066: to_int32 (from tensorflow.python.ops.math_ops) is deprecated and will be removed in a future version.\n",
            "Instructions for updating:\n",
            "Use tf.cast instead.\n",
            "Epoch 1/100\n",
            " - 6s - loss: 3072.1723 - val_loss: 1466.8704\n",
            "Epoch 2/100\n",
            " - 3s - loss: 1735.1803 - val_loss: 1427.0561\n",
            "Epoch 3/100\n",
            " - 3s - loss: 1636.9650 - val_loss: 1384.2495\n",
            "Epoch 4/100\n",
            " - 3s - loss: 1578.7624 - val_loss: 1394.5350\n",
            "Epoch 5/100\n",
            " - 3s - loss: 1534.2300 - val_loss: 1372.3686\n",
            "Epoch 6/100\n",
            " - 3s - loss: 1520.8269 - val_loss: 1417.4758\n",
            "Epoch 7/100\n",
            " - 3s - loss: 1510.1663 - val_loss: 1356.4169\n",
            "Epoch 8/100\n",
            " - 3s - loss: 1512.5480 - val_loss: 1361.8189\n",
            "Epoch 9/100\n",
            " - 3s - loss: 1498.3068 - val_loss: 1376.4470\n",
            "Epoch 10/100\n",
            " - 3s - loss: 1489.6863 - val_loss: 1374.2434\n",
            "Epoch 11/100\n",
            " - 3s - loss: 1478.4859 - val_loss: 1355.7153\n",
            "Epoch 12/100\n",
            " - 3s - loss: 1458.6843 - val_loss: 1345.3213\n",
            "Epoch 13/100\n",
            " - 3s - loss: 1446.5967 - val_loss: 1340.2499\n",
            "Epoch 14/100\n",
            " - 3s - loss: 1450.5021 - val_loss: 1340.8941\n",
            "Epoch 15/100\n",
            " - 3s - loss: 1443.6656 - val_loss: 1324.6053\n",
            "Epoch 16/100\n",
            " - 3s - loss: 1435.6789 - val_loss: 1320.2624\n",
            "Epoch 17/100\n",
            " - 3s - loss: 1421.7212 - val_loss: 1321.6648\n",
            "Epoch 18/100\n",
            " - 3s - loss: 1409.8102 - val_loss: 1309.9832\n",
            "Epoch 19/100\n",
            " - 3s - loss: 1412.4541 - val_loss: 1313.7984\n",
            "Epoch 20/100\n",
            " - 3s - loss: 1417.0042 - val_loss: 1310.3234\n",
            "Epoch 21/100\n",
            " - 3s - loss: 1397.0674 - val_loss: 1288.4109\n",
            "Epoch 22/100\n",
            " - 3s - loss: 1384.9973 - val_loss: 1305.1410\n",
            "Epoch 23/100\n",
            " - 3s - loss: 1386.4439 - val_loss: 1288.6080\n",
            "Epoch 24/100\n",
            " - 3s - loss: 1367.4796 - val_loss: 1274.4631\n",
            "Epoch 25/100\n",
            " - 3s - loss: 1360.0717 - val_loss: 1265.1340\n",
            "Epoch 26/100\n",
            " - 3s - loss: 1346.0124 - val_loss: 1237.3168\n",
            "Epoch 27/100\n",
            " - 3s - loss: 1337.6041 - val_loss: 1238.7297\n",
            "Epoch 28/100\n",
            " - 3s - loss: 1327.1596 - val_loss: 1222.9848\n",
            "Epoch 29/100\n",
            " - 3s - loss: 1299.8149 - val_loss: 1197.9758\n",
            "Epoch 30/100\n",
            " - 3s - loss: 1258.3979 - val_loss: 1138.6879\n",
            "Epoch 31/100\n",
            " - 3s - loss: 1208.6239 - val_loss: 1062.4441\n",
            "Epoch 32/100\n",
            " - 3s - loss: 1144.8044 - val_loss: 990.2614\n",
            "Epoch 33/100\n",
            " - 3s - loss: 1096.2186 - val_loss: 941.3123\n",
            "Epoch 34/100\n",
            " - 3s - loss: 1049.8751 - val_loss: 945.1929\n",
            "Epoch 35/100\n",
            " - 3s - loss: 1037.7749 - val_loss: 898.6113\n",
            "Epoch 36/100\n",
            " - 3s - loss: 1026.6463 - val_loss: 942.5928\n",
            "Epoch 37/100\n",
            " - 3s - loss: 1027.5803 - val_loss: 917.2346\n",
            "Epoch 38/100\n",
            " - 3s - loss: 1022.0641 - val_loss: 889.6839\n",
            "Epoch 39/100\n",
            " - 3s - loss: 1013.5418 - val_loss: 882.3002\n",
            "Epoch 40/100\n",
            " - 3s - loss: 1014.8232 - val_loss: 883.3883\n",
            "Epoch 41/100\n",
            " - 3s - loss: 1020.7141 - val_loss: 887.8522\n",
            "Epoch 42/100\n",
            " - 3s - loss: 1016.2299 - val_loss: 897.2540\n",
            "Epoch 43/100\n",
            " - 3s - loss: 1004.9962 - val_loss: 1008.4722\n",
            "Epoch 44/100\n",
            " - 3s - loss: 1014.0467 - val_loss: 884.3155\n",
            "Epoch 45/100\n",
            " - 3s - loss: 1012.3064 - val_loss: 946.8035\n",
            "Epoch 46/100\n",
            " - 3s - loss: 1028.4017 - val_loss: 898.7195\n",
            "Epoch 47/100\n",
            " - 3s - loss: 1005.6181 - val_loss: 896.4996\n",
            "Epoch 48/100\n",
            " - 3s - loss: 1013.1401 - val_loss: 884.0597\n",
            "Epoch 49/100\n",
            " - 3s - loss: 1007.3879 - val_loss: 897.8778\n",
            "Epoch 50/100\n",
            " - 3s - loss: 998.2347 - val_loss: 911.1658\n",
            "Epoch 51/100\n",
            " - 3s - loss: 1016.9989 - val_loss: 882.8838\n",
            "Epoch 52/100\n",
            " - 3s - loss: 1015.4855 - val_loss: 894.4666\n",
            "Epoch 53/100\n",
            " - 3s - loss: 1002.7964 - val_loss: 911.1760\n",
            "Epoch 54/100\n",
            " - 3s - loss: 1007.9488 - val_loss: 995.8983\n",
            "Epoch 55/100\n",
            " - 3s - loss: 1008.4510 - val_loss: 880.2085\n",
            "Epoch 56/100\n",
            " - 3s - loss: 1002.9888 - val_loss: 879.0690\n",
            "Epoch 57/100\n",
            " - 3s - loss: 994.8808 - val_loss: 881.5107\n",
            "Epoch 58/100\n",
            " - 3s - loss: 997.8370 - val_loss: 879.5166\n",
            "Epoch 59/100\n",
            " - 3s - loss: 1000.8137 - val_loss: 887.4966\n",
            "Epoch 60/100\n",
            " - 3s - loss: 998.4979 - val_loss: 881.5105\n",
            "Epoch 61/100\n",
            " - 3s - loss: 998.7966 - val_loss: 932.3933\n",
            "Epoch 62/100\n",
            " - 3s - loss: 996.1960 - val_loss: 895.0897\n",
            "Epoch 63/100\n",
            " - 3s - loss: 995.8769 - val_loss: 880.7421\n",
            "Epoch 64/100\n",
            " - 3s - loss: 1000.6409 - val_loss: 916.6595\n",
            "Epoch 65/100\n",
            " - 3s - loss: 997.2998 - val_loss: 881.7330\n",
            "Epoch 66/100\n",
            " - 3s - loss: 1005.7907 - val_loss: 896.7410\n",
            "Epoch 67/100\n",
            " - 3s - loss: 998.6237 - val_loss: 928.1381\n",
            "Epoch 68/100\n",
            " - 3s - loss: 992.0791 - val_loss: 880.5968\n",
            "Epoch 69/100\n",
            " - 3s - loss: 998.0492 - val_loss: 883.9330\n",
            "Epoch 70/100\n",
            " - 3s - loss: 990.8416 - val_loss: 920.5953\n",
            "Epoch 71/100\n",
            " - 3s - loss: 995.4053 - val_loss: 890.2946\n",
            "Epoch 72/100\n",
            " - 3s - loss: 990.3363 - val_loss: 885.4166\n",
            "Epoch 73/100\n",
            " - 3s - loss: 987.5494 - val_loss: 880.8937\n",
            "Epoch 74/100\n",
            " - 3s - loss: 989.2709 - val_loss: 886.0165\n",
            "Epoch 75/100\n",
            " - 3s - loss: 987.6710 - val_loss: 875.8282\n",
            "Epoch 76/100\n",
            " - 3s - loss: 990.5830 - val_loss: 939.6925\n",
            "Epoch 77/100\n",
            " - 3s - loss: 989.2816 - val_loss: 866.2432\n",
            "Epoch 78/100\n",
            " - 3s - loss: 979.1438 - val_loss: 865.1614\n",
            "Epoch 79/100\n",
            " - 3s - loss: 972.8123 - val_loss: 906.1425\n",
            "Epoch 80/100\n",
            " - 3s - loss: 979.7110 - val_loss: 859.5888\n",
            "Epoch 81/100\n",
            " - 3s - loss: 967.1807 - val_loss: 861.1745\n",
            "Epoch 82/100\n",
            " - 3s - loss: 972.7381 - val_loss: 864.3643\n",
            "Epoch 83/100\n",
            " - 3s - loss: 970.1903 - val_loss: 859.4390\n",
            "Epoch 84/100\n",
            " - 3s - loss: 963.6066 - val_loss: 854.6410\n",
            "Epoch 85/100\n",
            " - 3s - loss: 962.8149 - val_loss: 859.1181\n",
            "Epoch 86/100\n",
            " - 3s - loss: 970.8195 - val_loss: 894.3159\n",
            "Epoch 87/100\n",
            " - 3s - loss: 976.8428 - val_loss: 866.3493\n",
            "Epoch 88/100\n",
            " - 3s - loss: 966.2933 - val_loss: 857.2802\n",
            "Epoch 89/100\n",
            " - 3s - loss: 958.2199 - val_loss: 885.3440\n",
            "Epoch 90/100\n",
            " - 3s - loss: 965.7446 - val_loss: 911.8894\n",
            "Epoch 91/100\n",
            " - 3s - loss: 959.0870 - val_loss: 869.2924\n",
            "Epoch 92/100\n",
            " - 3s - loss: 959.2761 - val_loss: 880.3306\n",
            "Epoch 93/100\n",
            " - 3s - loss: 957.9518 - val_loss: 867.2103\n",
            "Epoch 94/100\n",
            " - 3s - loss: 960.4394 - val_loss: 857.6100\n",
            "Epoch 95/100\n",
            " - 3s - loss: 958.1586 - val_loss: 892.6698\n",
            "Epoch 96/100\n",
            " - 3s - loss: 961.9780 - val_loss: 852.1485\n",
            "Epoch 97/100\n",
            " - 3s - loss: 961.4702 - val_loss: 892.2028\n",
            "Epoch 98/100\n",
            " - 3s - loss: 954.9685 - val_loss: 845.6987\n",
            "Epoch 99/100\n",
            " - 3s - loss: 957.9159 - val_loss: 862.1121\n",
            "Epoch 100/100\n",
            " - 3s - loss: 946.6765 - val_loss: 880.3186\n"
          ],
          "name": "stdout"
        },
        {
          "output_type": "display_data",
          "data": {
            "image/png": "[encoded data removed]",
            "text/plain": [
              "<Figure size 432x288 with 1 Axes>"
            ]
          },
          "metadata": {
            "tags": [],
            "needs_background": "light"
          }
        }
      ]
    },
    {
      "cell_type": "code",
      "metadata": {
        "id": "cvk-0iP_3Zo_"
      },
      "source": [
        "model = load_model('models/LSTM_model.h5')"
      ],
      "execution_count": null,
      "outputs": []
    },
    {
      "cell_type": "code",
      "metadata": {
        "scrolled": true,
        "id": "ZSewZXpl3ZpA"
      },
      "source": [
        "y_pred = model.predict(X_valid)\n",
        "y_true = y_valid.values"
      ],
      "execution_count": null,
      "outputs": []
    },
    {
      "cell_type": "code",
      "metadata": {
        "id": "4PaqmdZR3ZpA",
        "outputId": "e04e5880-1405-49b6-d18a-52a183378881"
      },
      "source": [
        "np.mean(np.sqrt(np.mean(np.square(y_true - y_pred), axis = 0)))"
      ],
      "execution_count": null,
      "outputs": [
        {
          "output_type": "execute_result",
          "data": {
            "text/plain": [
              "26.806825955061225"
            ]
          },
          "metadata": {
            "tags": []
          },
          "execution_count": 11
        }
      ]
    },
    {
      "cell_type": "code",
      "metadata": {
        "id": "zk0HQ3X03ZpB"
      },
      "source": [
        "pred = model.predict(X_test)\n",
        "sample_submission = pd.DataFrame(data = pred, columns = sample_submission.columns, index = sample_submission.index)\n",
        "sample_submission.to_csv('submissions/submission_LSTM.csv')"
      ],
      "execution_count": null,
      "outputs": []
    },
    {
      "cell_type": "markdown",
      "metadata": {
        "id": "lLjgs45s3ZpC"
      },
      "source": [
        "### 2. Stacked GRU"
      ]
    },
    {
      "cell_type": "code",
      "metadata": {
        "id": "XlYTMHIj3ZpC"
      },
      "source": [
        "def build_model(input_shape):\n",
        "    model = Sequential()\n",
        "    model.add(Reshape((1, 113), input_shape = (input_shape, )))\n",
        "    model.add(LSTM(128, return_sequences = True))\n",
        "    model.add(LSTM(128, return_sequences = False))\n",
        "\n",
        "    model.add(Dense(128, activation = 'relu'))\n",
        "    model.add(Dropout(.3))\n",
        "    model.add(Dense(64, activation = 'relu'))\n",
        "    model.add(Dropout(.3))\n",
        "    model.add(Dense(12, activation = 'linear'))\n",
        "    \n",
        "    adam = Adam(lr=0.0005)\n",
        "    model.compile(loss = 'mse', optimizer = adam)\n",
        "    return model"
      ],
      "execution_count": null,
      "outputs": []
    },
    {
      "cell_type": "code",
      "metadata": {
        "scrolled": false,
        "id": "hpvBp_Gq3ZpD",
        "outputId": "3f084b0e-adcc-4069-8d46-5835cc442fc2"
      },
      "source": [
        "early_stopping = EarlyStopping(monitor = 'val_loss', mode = 'min', patience = 20)\n",
        "model_checkpoint = ModelCheckpoint('models/GRU_model.h5', monitor = 'val_loss', mode = 'min', save_best_only = True)\n",
        "\n",
        "hist_model = model.fit(\n",
        "    X_train, y_train,\n",
        "    epochs = 100,\n",
        "    batch_size = 256,\n",
        "    verbose = 2, \n",
        "    validation_data = (X_valid, y_valid),\n",
        "    callbacks = [early_stopping, model_checkpoint]\n",
        ")\n",
        "\n",
        "plt.plot(hist_model.history['loss'], label = 'loss')\n",
        "plt.plot(hist_model.history['val_loss'], label = 'val_loss')\n",
        "plt.xlabel('epoch')\n",
        "plt.ylabel('loss')\n",
        "plt.legend()\n",
        "plt.show()"
      ],
      "execution_count": null,
      "outputs": [
        {
          "output_type": "stream",
          "text": [
            "Train on 52936 samples, validate on 13234 samples\n",
            "Epoch 1/100\n",
            " - 7s - loss: 1501.3066 - val_loss: 1334.2456\n",
            "Epoch 2/100\n",
            " - 3s - loss: 1366.7122 - val_loss: 1209.9323\n",
            "Epoch 3/100\n",
            " - 3s - loss: 1193.4927 - val_loss: 1069.5060\n",
            "Epoch 4/100\n",
            " - 3s - loss: 1049.7105 - val_loss: 966.8533\n",
            "Epoch 5/100\n",
            " - 3s - loss: 1020.7014 - val_loss: 1002.0687\n",
            "Epoch 6/100\n",
            " - 3s - loss: 992.6224 - val_loss: 870.6047\n",
            "Epoch 7/100\n",
            " - 3s - loss: 977.7186 - val_loss: 857.4223\n",
            "Epoch 8/100\n",
            " - 3s - loss: 974.4939 - val_loss: 857.7152\n",
            "Epoch 9/100\n",
            " - 3s - loss: 972.4924 - val_loss: 872.5874\n",
            "Epoch 10/100\n",
            " - 3s - loss: 959.7344 - val_loss: 851.8735\n",
            "Epoch 11/100\n",
            " - 3s - loss: 961.2673 - val_loss: 879.6079\n",
            "Epoch 12/100\n",
            " - 3s - loss: 964.0195 - val_loss: 849.5609\n",
            "Epoch 13/100\n",
            " - 3s - loss: 962.5132 - val_loss: 855.4486\n",
            "Epoch 14/100\n",
            " - 3s - loss: 953.0492 - val_loss: 846.4684\n",
            "Epoch 15/100\n",
            " - 3s - loss: 964.0729 - val_loss: 855.3593\n",
            "Epoch 16/100\n",
            " - 3s - loss: 971.5196 - val_loss: 933.3314\n",
            "Epoch 17/100\n",
            " - 3s - loss: 947.3325 - val_loss: 854.1208\n",
            "Epoch 18/100\n",
            " - 3s - loss: 949.1622 - val_loss: 848.4959\n",
            "Epoch 19/100\n",
            " - 3s - loss: 965.1149 - val_loss: 888.2458\n",
            "Epoch 20/100\n",
            " - 3s - loss: 954.8320 - val_loss: 852.8998\n",
            "Epoch 21/100\n",
            " - 3s - loss: 960.0220 - val_loss: 856.1757\n",
            "Epoch 22/100\n",
            " - 3s - loss: 941.8708 - val_loss: 854.3876\n",
            "Epoch 23/100\n",
            " - 3s - loss: 952.8813 - val_loss: 840.4603\n",
            "Epoch 24/100\n",
            " - 3s - loss: 950.4466 - val_loss: 848.1408\n",
            "Epoch 25/100\n",
            " - 3s - loss: 940.2265 - val_loss: 855.0758\n",
            "Epoch 26/100\n",
            " - 3s - loss: 947.9142 - val_loss: 851.9288\n",
            "Epoch 27/100\n",
            " - 3s - loss: 944.1840 - val_loss: 880.7286\n",
            "Epoch 28/100\n",
            " - 3s - loss: 941.2765 - val_loss: 905.4680\n",
            "Epoch 29/100\n",
            " - 3s - loss: 948.7297 - val_loss: 840.2436\n",
            "Epoch 30/100\n",
            " - 3s - loss: 953.1438 - val_loss: 862.9354\n",
            "Epoch 31/100\n",
            " - 3s - loss: 953.1541 - val_loss: 850.2214\n",
            "Epoch 32/100\n",
            " - 3s - loss: 950.4139 - val_loss: 873.4962\n",
            "Epoch 33/100\n",
            " - 3s - loss: 941.3673 - val_loss: 878.8765\n",
            "Epoch 34/100\n",
            " - 3s - loss: 937.0924 - val_loss: 881.8664\n",
            "Epoch 35/100\n",
            " - 3s - loss: 952.6279 - val_loss: 864.2531\n",
            "Epoch 36/100\n",
            " - 3s - loss: 945.5802 - val_loss: 845.0165\n",
            "Epoch 37/100\n",
            " - 3s - loss: 943.2878 - val_loss: 846.1247\n",
            "Epoch 38/100\n",
            " - 3s - loss: 941.1280 - val_loss: 855.0584\n",
            "Epoch 39/100\n",
            " - 3s - loss: 941.9546 - val_loss: 843.1856\n",
            "Epoch 40/100\n",
            " - 3s - loss: 943.1069 - val_loss: 901.5827\n",
            "Epoch 41/100\n",
            " - 3s - loss: 941.8338 - val_loss: 886.3749\n",
            "Epoch 42/100\n",
            " - 3s - loss: 931.3214 - val_loss: 844.1654\n",
            "Epoch 43/100\n",
            " - 3s - loss: 934.8209 - val_loss: 858.0293\n",
            "Epoch 44/100\n",
            " - 3s - loss: 939.4183 - val_loss: 843.7192\n",
            "Epoch 45/100\n",
            " - 3s - loss: 931.9325 - val_loss: 911.8819\n",
            "Epoch 46/100\n",
            " - 3s - loss: 945.4582 - val_loss: 859.0476\n",
            "Epoch 47/100\n",
            " - 3s - loss: 932.0362 - val_loss: 850.5981\n",
            "Epoch 48/100\n",
            " - 3s - loss: 942.0301 - val_loss: 838.9993\n",
            "Epoch 49/100\n",
            " - 3s - loss: 934.7021 - val_loss: 853.1058\n",
            "Epoch 50/100\n",
            " - 3s - loss: 940.9703 - val_loss: 839.0802\n",
            "Epoch 51/100\n",
            " - 3s - loss: 928.3892 - val_loss: 856.0639\n",
            "Epoch 52/100\n",
            " - 3s - loss: 927.6189 - val_loss: 906.4755\n",
            "Epoch 53/100\n",
            " - 3s - loss: 931.9786 - val_loss: 877.1380\n",
            "Epoch 54/100\n",
            " - 3s - loss: 931.7709 - val_loss: 850.1668\n",
            "Epoch 55/100\n",
            " - 3s - loss: 931.2067 - val_loss: 865.8475\n",
            "Epoch 56/100\n",
            " - 3s - loss: 938.7016 - val_loss: 859.6124\n",
            "Epoch 57/100\n",
            " - 3s - loss: 931.7377 - val_loss: 843.4501\n",
            "Epoch 58/100\n",
            " - 3s - loss: 927.2540 - val_loss: 853.1151\n",
            "Epoch 59/100\n",
            " - 3s - loss: 943.5450 - val_loss: 845.4471\n",
            "Epoch 60/100\n",
            " - 3s - loss: 937.6288 - val_loss: 837.9855\n",
            "Epoch 61/100\n",
            " - 3s - loss: 926.7542 - val_loss: 838.1221\n",
            "Epoch 62/100\n",
            " - 3s - loss: 931.0320 - val_loss: 851.5447\n",
            "Epoch 63/100\n",
            " - 3s - loss: 924.1141 - val_loss: 841.7395\n",
            "Epoch 64/100\n",
            " - 3s - loss: 919.9081 - val_loss: 845.3160\n",
            "Epoch 65/100\n",
            " - 3s - loss: 923.1552 - val_loss: 845.0860\n",
            "Epoch 66/100\n",
            " - 3s - loss: 935.9199 - val_loss: 864.6700\n",
            "Epoch 67/100\n",
            " - 3s - loss: 930.4971 - val_loss: 844.0326\n",
            "Epoch 68/100\n",
            " - 3s - loss: 930.1244 - val_loss: 838.9147\n",
            "Epoch 69/100\n",
            " - 3s - loss: 924.0365 - val_loss: 900.2978\n",
            "Epoch 70/100\n",
            " - 3s - loss: 921.6094 - val_loss: 844.8134\n",
            "Epoch 71/100\n",
            " - 3s - loss: 924.8092 - val_loss: 882.3471\n",
            "Epoch 72/100\n",
            " - 3s - loss: 933.2979 - val_loss: 849.5117\n",
            "Epoch 73/100\n",
            " - 3s - loss: 926.2651 - val_loss: 881.9943\n",
            "Epoch 74/100\n",
            " - 3s - loss: 925.3240 - val_loss: 844.6713\n",
            "Epoch 75/100\n",
            " - 3s - loss: 922.0830 - val_loss: 875.9572\n",
            "Epoch 76/100\n",
            " - 3s - loss: 928.6370 - val_loss: 869.8168\n",
            "Epoch 77/100\n",
            " - 3s - loss: 928.3105 - val_loss: 894.4287\n",
            "Epoch 78/100\n",
            " - 3s - loss: 933.6818 - val_loss: 872.7496\n",
            "Epoch 79/100\n",
            " - 3s - loss: 922.6433 - val_loss: 913.7818\n",
            "Epoch 80/100\n",
            " - 3s - loss: 923.8895 - val_loss: 842.5820\n"
          ],
          "name": "stdout"
        },
        {
          "output_type": "display_data",
          "data": {
            "image/png": "[encoded data removed]",
            "text/plain": [
              "<Figure size 432x288 with 1 Axes>"
            ]
          },
          "metadata": {
            "tags": [],
            "needs_background": "light"
          }
        }
      ]
    },
    {
      "cell_type": "code",
      "metadata": {
        "id": "esc-iPyG3ZpD"
      },
      "source": [
        "model = load_model('models/GRU_model.h5')"
      ],
      "execution_count": null,
      "outputs": []
    },
    {
      "cell_type": "code",
      "metadata": {
        "id": "2D5iyy4t3ZpD"
      },
      "source": [
        "y_pred = model.predict(X_valid)\n",
        "y_true = y_valid.values"
      ],
      "execution_count": null,
      "outputs": []
    },
    {
      "cell_type": "code",
      "metadata": {
        "id": "_WYHCFS63ZpE",
        "outputId": "3563fac5-c57e-46d1-886d-f37a55327330"
      },
      "source": [
        "np.mean(np.sqrt(np.mean(np.square(y_true - y_pred), axis = 0)))"
      ],
      "execution_count": null,
      "outputs": [
        {
          "output_type": "execute_result",
          "data": {
            "text/plain": [
              "26.595546342115313"
            ]
          },
          "metadata": {
            "tags": []
          },
          "execution_count": 19
        }
      ]
    },
    {
      "cell_type": "code",
      "metadata": {
        "id": "TwuKDJYD3ZpE"
      },
      "source": [
        "pred = model.predict(X_test)\n",
        "sample_submission = pd.DataFrame(data = pred, columns = sample_submission.columns, index = sample_submission.index)\n",
        "sample_submission.to_csv('submissions/submission_GRU.csv')"
      ],
      "execution_count": null,
      "outputs": []
    }
  ]
}