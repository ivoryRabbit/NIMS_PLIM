{
  "nbformat": 4,
  "nbformat_minor": 0,
  "metadata": {
    "kernelspec": {
      "display_name": "Python 3",
      "language": "python",
      "name": "python3"
    },
    "language_info": {
      "codemirror_mode": {
        "name": "ipython",
        "version": 3
      },
      "file_extension": ".py",
      "mimetype": "text/x-python",
      "name": "python",
      "nbconvert_exporter": "python",
      "pygments_lexer": "ipython3",
      "version": "3.7.3"
    },
    "colab": {
      "name": "6.TCN.ipynb",
      "provenance": [],
      "collapsed_sections": [],
      "include_colab_link": true
    }
  },
  "cells": [
    {
      "cell_type": "markdown",
      "metadata": {
        "id": "view-in-github",
        "colab_type": "text"
      },
      "source": [
        "<a href=\"https://colab.research.google.com/github/ivoryRabbit/NIMS_PLIM/blob/gh-pages/6_TCN.ipynb\" target=\"_parent\"><img src=\"https://colab.research.google.com/assets/colab-badge.svg\" alt=\"Open In Colab\"/></a>"
      ]
    },
    {
      "cell_type": "markdown",
      "metadata": {
        "id": "zBdMxQP5g61K"
      },
      "source": [
        "# TCN\n",
        "\n",
        "- wavenet에 사용된 TCN(Temporal Convolutional Networks)을 사용하였습니다.\n",
        "    - 결과: 19.66194 (최대)(submission_TCN_200414_1.csv)\n",
        "    - 결과: 19.73639 (현재)(submission_TCN_2.csv)\n",
        "- [TCN 논문](https://arxiv.org/abs/1611.05267)\n",
        "- [TCN 설명 포스트](http://www.secmem.org/blog/2019/08/18/wavenet/)\n",
        "\n",
        "- LSTM보다 성능이 좋았으며, 후에 GB based model과 ensemble 했을 때 효과가 있었습니다.\n",
        "- 계절성(seasonality)를 dilation을 이용해 반영하였습니다.\n",
        "- dilation의 마지막 1은 전달(previous month)뿐만 아니라 그 양옆까지 학습시키기 위함입니다."
      ]
    },
    {
      "cell_type": "code",
      "metadata": {
        "id": "ZpNDTi7dg61L"
      },
      "source": [
        "import pandas as pd\n",
        "import numpy as np\n",
        "import glob, re, gc, os\n",
        "np.random.seed(777)\n",
        "\n",
        "import seaborn as sns\n",
        "import matplotlib.pyplot as plt\n",
        "%matplotlib inline\n",
        "plt.style.use('bmh')\n",
        "\n",
        "from sklearn.model_selection import train_test_split\n",
        "\n",
        "import tensorflow as tf\n",
        "import tensorflow.keras.backend as K\n",
        "from tensorflow.keras.models import Sequential, Model, load_model\n",
        "from tensorflow.keras.layers import (\n",
        "    Input, Dense, LSTM,  Flatten, Dropout, BatchNormalization,\n",
        "    Reshape, Lambda, add, concatenate, Conv1D, SpatialDropout1D,\n",
        "    GRU, RNN, Input\n",
        ")\n",
        "from tensorflow.keras.optimizers import Adam, RMSprop\n",
        "from tensorflow.keras.callbacks import EarlyStopping, ModelCheckpoint\n",
        "from tensorflow.keras.initializers import Constant\n",
        "\n",
        "import warnings\n",
        "warnings.filterwarnings('ignore')"
      ],
      "execution_count": null,
      "outputs": []
    },
    {
      "cell_type": "code",
      "metadata": {
        "id": "oU_t32Lsg61S"
      },
      "source": [
        "def residual_block(x, dilation_rate, nb_filters, kernel_size, padding, dropout_rate=0):\n",
        "    prev_x = x\n",
        "    for _ in range(2):\n",
        "        x = Conv1D(filters = nb_filters,\n",
        "                   kernel_size = kernel_size,\n",
        "                   dilation_rate = dilation_rate,\n",
        "                   padding = padding,\n",
        "                   activation = 'relu')(x)\n",
        "        x = BatchNormalization()(x) # batchnormalization 빼야함 안그러면 그래디언트 폭주 현상 발생\n",
        "        if dropout_rate != 0:\n",
        "            x = SpatialDropout1D(rate = dropout_rate)(x)\n",
        "            \n",
        "    prev_x = Conv1D(filters = nb_filters, \n",
        "                    kernel_size = 1, \n",
        "                    padding = 'same')(prev_x)\n",
        "    res_x = add([prev_x, x])\n",
        "    return res_x, x\n",
        "\n",
        "class TCN:\n",
        "    def __init__(self,\n",
        "                 nb_filters = 64,\n",
        "                 kernel_size = 2,\n",
        "                 nb_stacks = 1,\n",
        "                 dilations = [1, 2, 4, 8, 16, 32],\n",
        "                 padding = 'causal',\n",
        "                 use_skip_connections = True,\n",
        "                 dropout_rate = 0.0,\n",
        "                 return_sequences = False,\n",
        "                 name = 'tcn'):\n",
        "        self.name = name\n",
        "        self.return_sequences = return_sequences\n",
        "        self.dropout_rate = dropout_rate\n",
        "        self.use_skip_connections = use_skip_connections\n",
        "        self.padding = padding\n",
        "        self.dilations = dilations\n",
        "        self.nb_stacks = nb_stacks\n",
        "        self.kernel_size = kernel_size\n",
        "        self.nb_filters = nb_filters\n",
        "\n",
        "        if padding != 'causal' and padding != 'same':\n",
        "            raise ValueError(\"Only 'causal' or 'same' padding are compatible for this layer.\")\n",
        "\n",
        "    def __call__(self, inputs):\n",
        "        x = inputs\n",
        "        x = Conv1D(filters = self.nb_filters, \n",
        "                   kernel_size = 1, \n",
        "                   padding = self.padding)(x)\n",
        "        skip_connections = []\n",
        "        for _ in range(self.nb_stacks):\n",
        "            for d in self.dilations:\n",
        "                x, skip_out = residual_block(x,\n",
        "                                             dilation_rate = d,\n",
        "                                             nb_filters = self.nb_filters,\n",
        "                                             kernel_size = self.kernel_size,\n",
        "                                             padding = self.padding,\n",
        "                                             dropout_rate = self.dropout_rate)\n",
        "                skip_connections.append(skip_out)\n",
        "        if self.use_skip_connections:\n",
        "            x = add(skip_connections)\n",
        "        if not self.return_sequences:\n",
        "            x = Lambda(lambda t: t[:, -1, :])(x)\n",
        "        return x"
      ],
      "execution_count": null,
      "outputs": []
    },
    {
      "cell_type": "code",
      "metadata": {
        "id": "j54OoRfng61V",
        "outputId": "5752da4e-97c4-4ac6-a542-8e265d6d6ea4"
      },
      "source": [
        "train = pd.read_csv('data/train_clean.csv', index_col = 'id')\n",
        "test = pd.read_csv('data/test.csv', index_col = 'id')\n",
        "sample_submission = pd.read_csv('data/sample_submission.csv', index_col = 'id')\n",
        "print(train.shape, test.shape, sample_submission.shape) "
      ],
      "execution_count": null,
      "outputs": [
        {
          "output_type": "stream",
          "text": [
            "(61651, 125) (10000, 113) (10000, 12)\n"
          ],
          "name": "stdout"
        }
      ]
    },
    {
      "cell_type": "markdown",
      "metadata": {
        "id": "8Blc9Q2Jg61Y"
      },
      "source": [
        "- submission_TCN_200414_1.csv\n",
        "    - 2009년 6월부터 2018년 5월까지 데이터 사용\n",
        "    - nb_filters = 128, dilations = [12, 24, 1]\n",
        "- submission_TCN_2.csv\n",
        "    - 2011년 6월부터 2018년 5월까지 데이터 사용\n",
        "    - nb_filters = 64, dilations = [12, 24, 36, 1]"
      ]
    },
    {
      "cell_type": "code",
      "metadata": {
        "id": "qVkWgkH1g61Z"
      },
      "source": [
        "X = train.loc[:, '2011-06': '2018-05']\n",
        "y = train.loc[:, '2018-06':]\n",
        "X_test = test.loc[:, '2011-06':]"
      ],
      "execution_count": null,
      "outputs": []
    },
    {
      "cell_type": "code",
      "metadata": {
        "id": "VBcJHr_qg61c"
      },
      "source": [
        "X_train, X_valid, y_train, y_valid = train_test_split(X, y, test_size = 0.2, random_state = 777)"
      ],
      "execution_count": null,
      "outputs": []
    },
    {
      "cell_type": "code",
      "metadata": {
        "id": "-5d6XJevg61f"
      },
      "source": [
        "def build_model(input_shape):\n",
        "    inputs = Input(shape = (input_shape, ))\n",
        "    x = Reshape((1, input_shape))(inputs)\n",
        "    x = TCN(nb_filters = 64, kernel_size = 2, nb_stacks = 2, dilations = [12, 24, 36, 1], dropout_rate = 0.2)(x)\n",
        "    x = Dense(128, activation = 'relu')(x)\n",
        "    x = Dropout(0.3)(x)\n",
        "    x = Dense(64, activation = 'relu')(x)\n",
        "    x = Dropout(0.3)(x)\n",
        "    outputs = Dense(12, activation = 'linear')(x)\n",
        "\n",
        "    adam = Adam(lr=0.0005)\n",
        "    model = Model(inputs = inputs, outputs = outputs)\n",
        "    model.compile(loss = 'mse', optimizer = adam)\n",
        "    return model"
      ],
      "execution_count": null,
      "outputs": []
    },
    {
      "cell_type": "code",
      "metadata": {
        "scrolled": false,
        "id": "EfEfGTPeg61i",
        "outputId": "bf0d504d-5390-4c37-ee0c-73447ed1e21e"
      },
      "source": [
        "model = build_model(X_train.shape[1])\n",
        "model.summary()"
      ],
      "execution_count": null,
      "outputs": [
        {
          "output_type": "stream",
          "text": [
            "WARNING:tensorflow:From /opt/conda/lib/python3.7/site-packages/tensorflow/python/ops/resource_variable_ops.py:435: colocate_with (from tensorflow.python.framework.ops) is deprecated and will be removed in a future version.\n",
            "Instructions for updating:\n",
            "Colocations handled automatically by placer.\n",
            "WARNING:tensorflow:From /opt/conda/lib/python3.7/site-packages/tensorflow/python/keras/layers/core.py:143: calling dropout (from tensorflow.python.ops.nn_ops) with keep_prob is deprecated and will be removed in a future version.\n",
            "Instructions for updating:\n",
            "Please use `rate` instead of `keep_prob`. Rate should be set to `rate = 1 - keep_prob`.\n",
            "WARNING:tensorflow:From /opt/conda/lib/python3.7/site-packages/tensorflow/python/keras/utils/losses_utils.py:170: to_float (from tensorflow.python.ops.math_ops) is deprecated and will be removed in a future version.\n",
            "Instructions for updating:\n",
            "Use tf.cast instead.\n",
            "__________________________________________________________________________________________________\n",
            "Layer (type)                    Output Shape         Param #     Connected to                     \n",
            "==================================================================================================\n",
            "input_1 (InputLayer)            (None, 84)           0                                            \n",
            "__________________________________________________________________________________________________\n",
            "reshape (Reshape)               (None, 1, 84)        0           input_1[0][0]                    \n",
            "__________________________________________________________________________________________________\n",
            "conv1d (Conv1D)                 (None, 1, 64)        5440        reshape[0][0]                    \n",
            "__________________________________________________________________________________________________\n",
            "conv1d_1 (Conv1D)               (None, 1, 64)        8256        conv1d[0][0]                     \n",
            "__________________________________________________________________________________________________\n",
            "batch_normalization_v1 (BatchNo (None, 1, 64)        256         conv1d_1[0][0]                   \n",
            "__________________________________________________________________________________________________\n",
            "spatial_dropout1d (SpatialDropo (None, 1, 64)        0           batch_normalization_v1[0][0]     \n",
            "__________________________________________________________________________________________________\n",
            "conv1d_2 (Conv1D)               (None, 1, 64)        8256        spatial_dropout1d[0][0]          \n",
            "__________________________________________________________________________________________________\n",
            "batch_normalization_v1_1 (Batch (None, 1, 64)        256         conv1d_2[0][0]                   \n",
            "__________________________________________________________________________________________________\n",
            "spatial_dropout1d_1 (SpatialDro (None, 1, 64)        0           batch_normalization_v1_1[0][0]   \n",
            "__________________________________________________________________________________________________\n",
            "conv1d_3 (Conv1D)               (None, 1, 64)        4160        conv1d[0][0]                     \n",
            "__________________________________________________________________________________________________\n",
            "add (Add)                       (None, 1, 64)        0           conv1d_3[0][0]                   \n",
            "                                                                 spatial_dropout1d_1[0][0]        \n",
            "__________________________________________________________________________________________________\n",
            "conv1d_4 (Conv1D)               (None, 1, 64)        8256        add[0][0]                        \n",
            "__________________________________________________________________________________________________\n",
            "batch_normalization_v1_2 (Batch (None, 1, 64)        256         conv1d_4[0][0]                   \n",
            "__________________________________________________________________________________________________\n",
            "spatial_dropout1d_2 (SpatialDro (None, 1, 64)        0           batch_normalization_v1_2[0][0]   \n",
            "__________________________________________________________________________________________________\n",
            "conv1d_5 (Conv1D)               (None, 1, 64)        8256        spatial_dropout1d_2[0][0]        \n",
            "__________________________________________________________________________________________________\n",
            "batch_normalization_v1_3 (Batch (None, 1, 64)        256         conv1d_5[0][0]                   \n",
            "__________________________________________________________________________________________________\n",
            "spatial_dropout1d_3 (SpatialDro (None, 1, 64)        0           batch_normalization_v1_3[0][0]   \n",
            "__________________________________________________________________________________________________\n",
            "conv1d_6 (Conv1D)               (None, 1, 64)        4160        add[0][0]                        \n",
            "__________________________________________________________________________________________________\n",
            "add_1 (Add)                     (None, 1, 64)        0           conv1d_6[0][0]                   \n",
            "                                                                 spatial_dropout1d_3[0][0]        \n",
            "__________________________________________________________________________________________________\n",
            "conv1d_7 (Conv1D)               (None, 1, 64)        8256        add_1[0][0]                      \n",
            "__________________________________________________________________________________________________\n",
            "batch_normalization_v1_4 (Batch (None, 1, 64)        256         conv1d_7[0][0]                   \n",
            "__________________________________________________________________________________________________\n",
            "spatial_dropout1d_4 (SpatialDro (None, 1, 64)        0           batch_normalization_v1_4[0][0]   \n",
            "__________________________________________________________________________________________________\n",
            "conv1d_8 (Conv1D)               (None, 1, 64)        8256        spatial_dropout1d_4[0][0]        \n",
            "__________________________________________________________________________________________________\n",
            "batch_normalization_v1_5 (Batch (None, 1, 64)        256         conv1d_8[0][0]                   \n",
            "__________________________________________________________________________________________________\n",
            "spatial_dropout1d_5 (SpatialDro (None, 1, 64)        0           batch_normalization_v1_5[0][0]   \n",
            "__________________________________________________________________________________________________\n",
            "conv1d_9 (Conv1D)               (None, 1, 64)        4160        add_1[0][0]                      \n",
            "__________________________________________________________________________________________________\n",
            "add_2 (Add)                     (None, 1, 64)        0           conv1d_9[0][0]                   \n",
            "                                                                 spatial_dropout1d_5[0][0]        \n",
            "__________________________________________________________________________________________________\n",
            "conv1d_10 (Conv1D)              (None, 1, 64)        8256        add_2[0][0]                      \n",
            "__________________________________________________________________________________________________\n",
            "batch_normalization_v1_6 (Batch (None, 1, 64)        256         conv1d_10[0][0]                  \n",
            "__________________________________________________________________________________________________\n",
            "spatial_dropout1d_6 (SpatialDro (None, 1, 64)        0           batch_normalization_v1_6[0][0]   \n",
            "__________________________________________________________________________________________________\n",
            "conv1d_11 (Conv1D)              (None, 1, 64)        8256        spatial_dropout1d_6[0][0]        \n",
            "__________________________________________________________________________________________________\n",
            "batch_normalization_v1_7 (Batch (None, 1, 64)        256         conv1d_11[0][0]                  \n",
            "__________________________________________________________________________________________________\n",
            "spatial_dropout1d_7 (SpatialDro (None, 1, 64)        0           batch_normalization_v1_7[0][0]   \n",
            "__________________________________________________________________________________________________\n",
            "conv1d_12 (Conv1D)              (None, 1, 64)        4160        add_2[0][0]                      \n",
            "__________________________________________________________________________________________________\n",
            "add_3 (Add)                     (None, 1, 64)        0           conv1d_12[0][0]                  \n",
            "                                                                 spatial_dropout1d_7[0][0]        \n",
            "__________________________________________________________________________________________________\n",
            "conv1d_13 (Conv1D)              (None, 1, 64)        8256        add_3[0][0]                      \n",
            "__________________________________________________________________________________________________\n",
            "batch_normalization_v1_8 (Batch (None, 1, 64)        256         conv1d_13[0][0]                  \n",
            "__________________________________________________________________________________________________\n",
            "spatial_dropout1d_8 (SpatialDro (None, 1, 64)        0           batch_normalization_v1_8[0][0]   \n",
            "__________________________________________________________________________________________________\n",
            "conv1d_14 (Conv1D)              (None, 1, 64)        8256        spatial_dropout1d_8[0][0]        \n",
            "__________________________________________________________________________________________________\n",
            "batch_normalization_v1_9 (Batch (None, 1, 64)        256         conv1d_14[0][0]                  \n",
            "__________________________________________________________________________________________________\n",
            "spatial_dropout1d_9 (SpatialDro (None, 1, 64)        0           batch_normalization_v1_9[0][0]   \n",
            "__________________________________________________________________________________________________\n",
            "conv1d_15 (Conv1D)              (None, 1, 64)        4160        add_3[0][0]                      \n",
            "__________________________________________________________________________________________________\n",
            "add_4 (Add)                     (None, 1, 64)        0           conv1d_15[0][0]                  \n",
            "                                                                 spatial_dropout1d_9[0][0]        \n",
            "__________________________________________________________________________________________________\n",
            "conv1d_16 (Conv1D)              (None, 1, 64)        8256        add_4[0][0]                      \n",
            "__________________________________________________________________________________________________\n",
            "batch_normalization_v1_10 (Batc (None, 1, 64)        256         conv1d_16[0][0]                  \n",
            "__________________________________________________________________________________________________\n",
            "spatial_dropout1d_10 (SpatialDr (None, 1, 64)        0           batch_normalization_v1_10[0][0]  \n",
            "__________________________________________________________________________________________________\n",
            "conv1d_17 (Conv1D)              (None, 1, 64)        8256        spatial_dropout1d_10[0][0]       \n",
            "__________________________________________________________________________________________________\n",
            "batch_normalization_v1_11 (Batc (None, 1, 64)        256         conv1d_17[0][0]                  \n",
            "__________________________________________________________________________________________________\n",
            "spatial_dropout1d_11 (SpatialDr (None, 1, 64)        0           batch_normalization_v1_11[0][0]  \n",
            "__________________________________________________________________________________________________\n",
            "conv1d_18 (Conv1D)              (None, 1, 64)        4160        add_4[0][0]                      \n",
            "__________________________________________________________________________________________________\n",
            "add_5 (Add)                     (None, 1, 64)        0           conv1d_18[0][0]                  \n",
            "                                                                 spatial_dropout1d_11[0][0]       \n",
            "__________________________________________________________________________________________________\n",
            "conv1d_19 (Conv1D)              (None, 1, 64)        8256        add_5[0][0]                      \n",
            "__________________________________________________________________________________________________\n",
            "batch_normalization_v1_12 (Batc (None, 1, 64)        256         conv1d_19[0][0]                  \n",
            "__________________________________________________________________________________________________\n",
            "spatial_dropout1d_12 (SpatialDr (None, 1, 64)        0           batch_normalization_v1_12[0][0]  \n",
            "__________________________________________________________________________________________________\n",
            "conv1d_20 (Conv1D)              (None, 1, 64)        8256        spatial_dropout1d_12[0][0]       \n",
            "__________________________________________________________________________________________________\n",
            "batch_normalization_v1_13 (Batc (None, 1, 64)        256         conv1d_20[0][0]                  \n",
            "__________________________________________________________________________________________________\n",
            "spatial_dropout1d_13 (SpatialDr (None, 1, 64)        0           batch_normalization_v1_13[0][0]  \n",
            "__________________________________________________________________________________________________\n",
            "conv1d_21 (Conv1D)              (None, 1, 64)        4160        add_5[0][0]                      \n",
            "__________________________________________________________________________________________________\n",
            "add_6 (Add)                     (None, 1, 64)        0           conv1d_21[0][0]                  \n",
            "                                                                 spatial_dropout1d_13[0][0]       \n",
            "__________________________________________________________________________________________________\n",
            "conv1d_22 (Conv1D)              (None, 1, 64)        8256        add_6[0][0]                      \n",
            "__________________________________________________________________________________________________\n",
            "batch_normalization_v1_14 (Batc (None, 1, 64)        256         conv1d_22[0][0]                  \n",
            "__________________________________________________________________________________________________\n",
            "spatial_dropout1d_14 (SpatialDr (None, 1, 64)        0           batch_normalization_v1_14[0][0]  \n",
            "__________________________________________________________________________________________________\n",
            "conv1d_23 (Conv1D)              (None, 1, 64)        8256        spatial_dropout1d_14[0][0]       \n",
            "__________________________________________________________________________________________________\n",
            "batch_normalization_v1_15 (Batc (None, 1, 64)        256         conv1d_23[0][0]                  \n",
            "__________________________________________________________________________________________________\n",
            "spatial_dropout1d_15 (SpatialDr (None, 1, 64)        0           batch_normalization_v1_15[0][0]  \n",
            "__________________________________________________________________________________________________\n",
            "add_8 (Add)                     (None, 1, 64)        0           spatial_dropout1d_1[0][0]        \n",
            "                                                                 spatial_dropout1d_3[0][0]        \n",
            "                                                                 spatial_dropout1d_5[0][0]        \n",
            "                                                                 spatial_dropout1d_7[0][0]        \n",
            "                                                                 spatial_dropout1d_9[0][0]        \n",
            "                                                                 spatial_dropout1d_11[0][0]       \n",
            "                                                                 spatial_dropout1d_13[0][0]       \n",
            "                                                                 spatial_dropout1d_15[0][0]       \n",
            "__________________________________________________________________________________________________\n",
            "lambda (Lambda)                 (None, 64)           0           add_8[0][0]                      \n",
            "__________________________________________________________________________________________________\n",
            "dense (Dense)                   (None, 128)          8320        lambda[0][0]                     \n",
            "__________________________________________________________________________________________________\n",
            "dropout (Dropout)               (None, 128)          0           dense[0][0]                      \n",
            "__________________________________________________________________________________________________\n",
            "dense_1 (Dense)                 (None, 64)           8256        dropout[0][0]                    \n",
            "__________________________________________________________________________________________________\n",
            "dropout_1 (Dropout)             (None, 64)           0           dense_1[0][0]                    \n",
            "__________________________________________________________________________________________________\n",
            "dense_2 (Dense)                 (None, 12)           780         dropout_1[0][0]                  \n",
            "==================================================================================================\n",
            "Total params: 188,108\n",
            "Trainable params: 186,060\n",
            "Non-trainable params: 2,048\n",
            "__________________________________________________________________________________________________\n"
          ],
          "name": "stdout"
        }
      ]
    },
    {
      "cell_type": "code",
      "metadata": {
        "scrolled": false,
        "id": "Q15NbLptg61l",
        "outputId": "58ed0f24-4654-48e5-d819-775f2861dd47"
      },
      "source": [
        "# TCN 학습시작\n",
        "# 모델이 저장될 models 폴더가 있어야 작동을 합니다.\n",
        "early_stopping = EarlyStopping(monitor = 'val_loss', mode = 'min', verbose = 5, patience = 10)\n",
        "model_checkpoint = ModelCheckpoint('models/TCN_model_2.h5', monitor = 'val_loss', mode = 'min', save_best_only = True)\n",
        "\n",
        "hist_model = model.fit(\n",
        "    X_train, y_train,\n",
        "    epochs = 100,\n",
        "    batch_size = 256,\n",
        "    verbose = 2, \n",
        "    validation_data = (X_valid, y_valid),\n",
        "    callbacks = [early_stopping, model_checkpoint]\n",
        ")\n",
        "\n",
        "plt.plot(hist_model.history['loss'], label = 'loss')\n",
        "plt.plot(hist_model.history['val_loss'], label = 'val_loss')\n",
        "plt.xlabel('epoch')\n",
        "plt.ylabel('loss')\n",
        "plt.legend()\n",
        "plt.show()"
      ],
      "execution_count": null,
      "outputs": [
        {
          "output_type": "stream",
          "text": [
            "Train on 49308 samples, validate on 12328 samples\n",
            "WARNING:tensorflow:From /opt/conda/lib/python3.7/site-packages/tensorflow/python/ops/math_ops.py:3066: to_int32 (from tensorflow.python.ops.math_ops) is deprecated and will be removed in a future version.\n",
            "Instructions for updating:\n",
            "Use tf.cast instead.\n",
            "Epoch 1/100\n",
            " - 40s - loss: 2675.9795 - val_loss: 931.8286\n",
            "Epoch 2/100\n",
            " - 26s - loss: 1085.7092 - val_loss: 1020.3303\n",
            "Epoch 3/100\n",
            " - 25s - loss: 981.1628 - val_loss: 818.5390\n",
            "Epoch 4/100\n",
            " - 26s - loss: 927.4394 - val_loss: 896.6527\n",
            "Epoch 5/100\n",
            " - 26s - loss: 888.2757 - val_loss: 818.1472\n",
            "Epoch 6/100\n",
            " - 26s - loss: 861.8547 - val_loss: 728.6470\n",
            "Epoch 7/100\n",
            " - 26s - loss: 849.6897 - val_loss: 771.2231\n",
            "Epoch 8/100\n",
            " - 26s - loss: 834.5887 - val_loss: 702.1884\n",
            "Epoch 9/100\n",
            " - 25s - loss: 827.7358 - val_loss: 702.2929\n",
            "Epoch 10/100\n",
            " - 26s - loss: 815.3831 - val_loss: 706.8614\n",
            "Epoch 11/100\n",
            " - 25s - loss: 806.2463 - val_loss: 706.2641\n",
            "Epoch 12/100\n",
            " - 26s - loss: 805.4038 - val_loss: 684.2012\n",
            "Epoch 13/100\n",
            " - 26s - loss: 795.9284 - val_loss: 686.3892\n",
            "Epoch 14/100\n",
            " - 25s - loss: 796.4930 - val_loss: 689.5672\n",
            "Epoch 15/100\n",
            " - 25s - loss: 792.1880 - val_loss: 712.7927\n",
            "Epoch 16/100\n",
            " - 25s - loss: 794.1858 - val_loss: 704.1146\n",
            "Epoch 17/100\n",
            " - 26s - loss: 782.2537 - val_loss: 6185.2604\n",
            "Epoch 18/100\n",
            " - 26s - loss: 775.5956 - val_loss: 979.3123\n",
            "Epoch 19/100\n",
            " - 26s - loss: 780.4133 - val_loss: 729.1423\n",
            "Epoch 20/100\n",
            " - 26s - loss: 781.0199 - val_loss: 698.4656\n",
            "Epoch 21/100\n",
            " - 26s - loss: 771.6986 - val_loss: 771.8214\n",
            "Epoch 22/100\n",
            " - 26s - loss: 776.4343 - val_loss: 697.5028\n",
            "Epoch 00022: early stopping\n"
          ],
          "name": "stdout"
        },
        {
          "output_type": "display_data",
          "data": {
            "image/png": "[encoded data removed]",
            "text/plain": [
              "<Figure size 432x288 with 1 Axes>"
            ]
          },
          "metadata": {
            "tags": [],
            "needs_background": "light"
          }
        }
      ]
    },
    {
      "cell_type": "code",
      "metadata": {
        "id": "_APXi7AMg61o"
      },
      "source": [
        "model = load_model('models/TCN_model_2.h5')"
      ],
      "execution_count": null,
      "outputs": []
    },
    {
      "cell_type": "code",
      "metadata": {
        "id": "YM44d7kxg61q"
      },
      "source": [
        "y_pred = model.predict(X_valid)\n",
        "y_true = y_valid.values"
      ],
      "execution_count": null,
      "outputs": []
    },
    {
      "cell_type": "code",
      "metadata": {
        "id": "i-Q5oboRg61t",
        "outputId": "2de1d6af-1770-463e-ed09-f41a1aa2d781"
      },
      "source": [
        "np.mean(np.sqrt(np.mean(np.square(y_true - y_pred), axis = 0)))"
      ],
      "execution_count": null,
      "outputs": [
        {
          "output_type": "execute_result",
          "data": {
            "text/plain": [
              "23.28545038356771"
            ]
          },
          "metadata": {
            "tags": []
          },
          "execution_count": 11
        }
      ]
    },
    {
      "cell_type": "code",
      "metadata": {
        "id": "WKfHeWUqg61w"
      },
      "source": [
        "model = load_model('models/TCN_model_200414_1.h5')\n",
        "pred = pd.DataFrame(\n",
        "    data = model.predict(train.loc[:, '2009-06': '2018-05']),\n",
        "    columns = sample_submission.columns,\n",
        "    index = train.index\n",
        ")"
      ],
      "execution_count": null,
      "outputs": []
    },
    {
      "cell_type": "code",
      "metadata": {
        "id": "pmbJy2B9g613"
      },
      "source": [
        "X_sample, y_sample = train.iloc[3, :-12], train.iloc[3, -12:]\n",
        "y_pred = pred.iloc[3]"
      ],
      "execution_count": null,
      "outputs": []
    },
    {
      "cell_type": "code",
      "metadata": {
        "id": "AHsK4iz_g615",
        "outputId": "9a1ecd82-f90f-4823-8793-96d6ca02e892"
      },
      "source": [
        "pd.concat([X_sample, y_pred]).plot()\n",
        "pd.concat([X_sample, y_sample]).plot()\n",
        "plt.legend(['predict', 'actual'])\n",
        "plt.show()"
      ],
      "execution_count": null,
      "outputs": [
        {
          "output_type": "display_data",
          "data": {
            "image/png": "[encoded data removed]",
            "text/plain": [
              "<Figure size 432x288 with 1 Axes>"
            ]
          },
          "metadata": {
            "tags": [],
            "needs_background": "light"
          }
        }
      ]
    },
    {
      "cell_type": "code",
      "metadata": {
        "id": "fP3b7u91g618"
      },
      "source": [
        "pred = model.predict(X_test.values)\n",
        "sample_submission = pd.DataFrame(data = pred, columns = sample_submission.columns, index = sample_submission.index)\n",
        "sample_submission.to_csv('submissions/submission_TCN_2.csv')"
      ],
      "execution_count": null,
      "outputs": []
    }
  ]
}